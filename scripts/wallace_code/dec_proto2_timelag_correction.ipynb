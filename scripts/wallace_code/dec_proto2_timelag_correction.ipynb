{
 "cells": [
  {
   "cell_type": "code",
   "execution_count": 1,
   "id": "fb5f9cec-5fdd-43cd-b996-4b7c289a3f64",
   "metadata": {},
   "outputs": [],
   "source": [
    "import numpy as np\n",
    "import pandas as pd\n",
    "import matplotlib as mpl\n",
    "#from mpl_toolkits.basemap import Basemap\n",
    "import matplotlib.pyplot as plt\n",
    "import matplotlib.colors as colors\n",
    "import xarray as xr\n",
    "from matplotlib import gridspec\n",
    "from mpl_toolkits.axes_grid1 import make_axes_locatable\n",
    "from matplotlib import ticker\n",
    "#from netCDF4 import Dataset\n",
    "from datetime import datetime, timedelta, date\n",
    "#import wrf\n",
    "from matplotlib.path import Path\n",
    "import matplotlib.patheffects as pe\n",
    "import glob,os\n",
    "import time\n",
    "from matplotlib.dates import DateFormatter\n",
    "import matplotlib.dates as mdates\n",
    "import scipy\n",
    "from scipy import stats\n",
    "\n",
    "from sklearn.model_selection import train_test_split \n",
    "from sklearn.linear_model import LinearRegression\n",
    "from sklearn import metrics\n",
    "from sklearn.preprocessing import PolynomialFeatures\n",
    "from sklearn.metrics import r2_score"
   ]
  },
  {
   "cell_type": "code",
   "execution_count": 2,
   "id": "fce0a41e-4ee2-479e-b8de-4024ab0b7108",
   "metadata": {},
   "outputs": [],
   "source": [
    "def polyfit(x, y, degree):\n",
    "    coeffs = np.polyfit(x, y, degree)\n",
    "    p = np.poly1d(coeffs)\n",
    "    #calculate r-squared\n",
    "    yhat = p(x)\n",
    "    ybar = np.sum(y)/len(y)\n",
    "    ssreg = np.sum((yhat-ybar)**2)\n",
    "    sstot = np.sum((y - ybar)**2)\n",
    "    results = ssreg / sstot\n",
    "\n",
    "    return coeffs,results"
   ]
  },
  {
   "cell_type": "code",
   "execution_count": 3,
   "id": "57ab124d-c1cb-482b-aebb-85f3b61f618a",
   "metadata": {},
   "outputs": [],
   "source": [
    "path='/home/bwallace/DEC/2021/'\n",
    "\n",
    "filepaths=[]\n",
    "for file in sorted(os.listdir(path)):\n",
    "    filepaths.append(path+file)"
   ]
  },
  {
   "cell_type": "code",
   "execution_count": 4,
   "id": "d89b0876-cec0-4512-adde-0fc814ea25eb",
   "metadata": {},
   "outputs": [],
   "source": [
    "df_from_file=(pd.read_csv(f,header=None) for f in filepaths)\n",
    "df=pd.concat(df_from_file)\n",
    "df=df.dropna(axis=1,how='all')"
   ]
  },
  {
   "cell_type": "code",
   "execution_count": 5,
   "id": "6ac35c8a-3834-4df5-824d-172b96c00037",
   "metadata": {},
   "outputs": [],
   "source": [
    "#set a dictionary with parameter ids\n",
    "\n",
    "parameter_id={'42101':'Carbon Monoxide','44201':'Ozone','42601':'Nitric Oxide','42602':'Nitrogen Dioxide','42603':'Oxides of Nitrogen',\n",
    "              '88501':'PM2.5 Raw Data','85101':'PM10 - LC','61101':'Wind Speed','61102':'Wind Direction'}"
   ]
  },
  {
   "cell_type": "code",
   "execution_count": 6,
   "id": "92da4b99-bf13-4ac1-a7dd-83bfa76dde60",
   "metadata": {},
   "outputs": [],
   "source": [
    "#set a list of column names to be renamed\n",
    "column_names=['site','data_status','action_code','datetime','parameter','duration','value','unit','qc','poc','lat','lon','GISdatum','method_code']\n",
    "\n",
    "#rename column names \n",
    "for i,entry in enumerate(column_names):\n",
    "    df=df.rename(columns={list(df)[i]:entry})\n",
    "\n",
    "df['datetime']=df['datetime'].str.replace(r'-0500','') #drop string from the end for easier conversion into datetime object\n",
    "\n",
    "times=pd.to_datetime(df['datetime'],format='%Y%m%dT%H%M') #take datetime column and convert it into a datetime object for indexing\n",
    "\n",
    "df=df.set_index(times).sort_index() #set index to datetime and sort it so that it's in order\n",
    "df.index.names=['date']"
   ]
  },
  {
   "cell_type": "code",
   "execution_count": 7,
   "id": "de8fdd0d-45f0-4f7f-bec2-3262c9226fab",
   "metadata": {},
   "outputs": [],
   "source": [
    "path_proto2='/data/aq/inhouse/raw/aqmon002/2021/'\n",
    "\n",
    "folders=sorted(os.listdir(path_proto2))\n",
    "\n",
    "proto2_filepaths=[]\n",
    "for folder in folders: #only using folders 05-07 since file naming conventions are similar - 03 has different names and 04 has weird data\n",
    "    if folder not in ['07','08','09','10','11']:\n",
    "        continue\n",
    "        \n",
    "    else:\n",
    "        for file in sorted(os.listdir(path_proto2+folder)):\n",
    "            proto2_filepaths.append(path_proto2+folder+'/'+file)"
   ]
  },
  {
   "cell_type": "code",
   "execution_count": 8,
   "id": "e6166128-5a72-495c-9610-7f60ab4fd7b4",
   "metadata": {},
   "outputs": [],
   "source": [
    "coord_file=pd.read_csv(proto2_filepaths[0],header=1)\n",
    "field_names=coord_file.columns.values.tolist()\n",
    "\n",
    "unit_dict={}\n",
    "for i in range(len(field_names)):\n",
    "    unit_dict[field_names[i]]=coord_file[field_names[i]][0]"
   ]
  },
  {
   "cell_type": "code",
   "execution_count": 9,
   "id": "d9d7357d-94dd-4da0-bac0-1faa8876b141",
   "metadata": {},
   "outputs": [],
   "source": [
    "proto2_from_files=(pd.read_csv(f,skiprows=[0,2],on_bad_lines='skip') for f in proto2_filepaths)\n",
    "proto2=pd.concat(proto2_from_files)\n",
    "\n",
    "proto2=proto2.set_index(np.arange(len(proto2)))\n",
    "badrows=proto2[~proto2['datetimestamp'].str.contains('2021')].index"
   ]
  },
  {
   "cell_type": "code",
   "execution_count": 10,
   "id": "15cf91f1-506f-45f3-91af-1ec8fa318c1a",
   "metadata": {},
   "outputs": [],
   "source": [
    "proto2=proto2.drop(badrows)\n",
    "    \n",
    "times=pd.to_datetime(proto2['datetimestamp'],format='%Y%m%dT%H%M%S')\n",
    "\n",
    "proto2=proto2.set_index(times)\n",
    "\n",
    "proto2['datetimestamp']=pd.to_datetime(proto2['datetimestamp'])\n",
    "proto2.index.names=['date']"
   ]
  },
  {
   "cell_type": "code",
   "execution_count": 11,
   "id": "b3d67b9b-f6f9-4d8b-8350-efbd1e92db14",
   "metadata": {},
   "outputs": [],
   "source": [
    "hourmax=proto2.drop(columns=['datetimestamp','unix_time']).apply(pd.to_numeric).resample('60min').max()\n",
    "hourmin=proto2.drop(columns=['datetimestamp','unix_time']).apply(pd.to_numeric).resample('60min').min()\n",
    "houravg=proto2.drop(columns=['datetimestamp','unix_time']).apply(pd.to_numeric).resample('60min').mean()\n",
    "hourmed=proto2.drop(columns=['datetimestamp','unix_time']).apply(pd.to_numeric).resample('60min').median()\n",
    "hourstd=proto2.drop(columns=['datetimestamp','unix_time']).apply(pd.to_numeric).resample('60min').std()"
   ]
  },
  {
   "cell_type": "code",
   "execution_count": 12,
   "id": "5e7019ae-e4ca-4247-9fbe-0679fa8c6d6b",
   "metadata": {},
   "outputs": [],
   "source": [
    "dec_table={'42101':'CO_ppb','44201':'O3NO2_ppb','42601':'NO_ppb','42602':'NO2_ppb','88501':'pm25_std_ugm3','85101':'pm10_std_ugm3'}"
   ]
  },
  {
   "cell_type": "code",
   "execution_count": 13,
   "id": "96d23355-af9d-4ca8-811f-ce7bdff2ff4a",
   "metadata": {},
   "outputs": [],
   "source": [
    "def CO_corrector(voltdiff,temp,rh,flag1,flag2,acal,bcal,atemp,btemp,ctemp,arh,brh,crh):\n",
    "    \n",
    "    craw=acal*voltdiff+bcal\n",
    "    \n",
    "    if flag1==True:\n",
    "        ct=craw/((atemp*temp)+btemp)\n",
    "    elif flag1==False:\n",
    "        ct=craw/((atemp*temp**2)+(btemp*temp)+ctemp)\n",
    "        \n",
    "    if flag2==True:\n",
    "        crh=ct/((arh*rh)+(brh))\n",
    "    elif flag2==False:\n",
    "        crh=ct/((arh*rh**2)+(brh*rh)+crh)\n",
    "    \n",
    "    return craw,ct,crh"
   ]
  },
  {
   "cell_type": "code",
   "execution_count": 14,
   "id": "ef445fd6-eddb-484f-8489-23a712cea216",
   "metadata": {},
   "outputs": [
    {
     "name": "stderr",
     "output_type": "stream",
     "text": [
      "/home/bwallace/.conda/envs/analysis/lib/python3.9/site-packages/IPython/core/interactiveshell.py:3444: DtypeWarning: Columns (1,2,3) have mixed types.Specify dtype option on import or set low_memory=False.\n",
      "  exec(code_obj, self.user_global_ns, self.user_ns)\n"
     ]
    }
   ],
   "source": [
    "epa_df=pd.read_csv('/home/bwallace/DEC/Queens_DEC_data_May21-Feb22_EPA_AQS.csv',header=0)[1:]\n",
    "epa_df=epa_df.set_index(pd.to_datetime(epa_df['Value.date_local']+' '+epa_df['Value.time_local'])) #combine date and time fields to create an indexable datetime index\n",
    "epa_df=epa_df[epa_df['Value.sample_frequency']=='HOURLY'].sort_index() #only select parameters that return hourly values and sort the datetime index\n",
    "\n",
    "epa_df=epa_df.rename(columns={'Value.sample_measurement':'value'}) #rename measurements field to just value"
   ]
  },
  {
   "cell_type": "code",
   "execution_count": 15,
   "id": "aca860e8-9a7d-46e2-bec0-0c3f1af4aa70",
   "metadata": {
    "tags": []
   },
   "outputs": [
    {
     "name": "stderr",
     "output_type": "stream",
     "text": [
      "/tmp/ipykernel_3201537/506197142.py:39: DeprecationWarning: The truth value of an empty array is ambiguous. Returning False, but in future this will result in an error. Use `array.size > 0` to check that an array is not empty.\n",
      "  epa_concentration_field=epa_df_matching_proto2.loc[epa_df_matching_proto2['Value.parameter_code']==var_id]['value']*[1 if epa_df_matching_proto2.loc[epa_df_matching_proto2['Value.parameter_code']==var_id]['Value.units_of_measure'].unique()=='Parts per billion' else 1000]\n"
     ]
    }
   ],
   "source": [
    "var_id=42101\n",
    "dataset_selector='DEC' #EPA or DEC\n",
    "an_mo=[9,10,11] #months to select for prediction field\n",
    "year=2021\n",
    "\n",
    "final_date=datetime(2021,11,15)\n",
    "\n",
    "training_period_length_in_days=14\n",
    "test_period_length_in_days=14\n",
    "\n",
    "multiple_predictor_periods=True\n",
    "\n",
    "custom_training_date=datetime(2021,9,16)\n",
    "custom_predictor_date=datetime(2021,8,19)\n",
    "\n",
    "plot=False\n",
    "\n",
    "vd={}\n",
    "\n",
    "##########################################################################################################################################################################\n",
    "\n",
    "df_matching_proto2=df.loc[df.index.isin(houravg.index)]\n",
    "epa_df_matching_proto2=epa_df.loc[epa_df.index.isin(houravg.index)]\n",
    "\n",
    "# CO:42101  O3NO2:44201  NO:42601  NO2:42602\n",
    "\n",
    "for tshift in [-5,-4,-3,-2,-1,0,1,2,3,4,5]:\n",
    "    for var_id in [44201,42101,42601,42602]:\n",
    "\n",
    "        if var_id==44201:\n",
    "            dec_concentration_field=df_matching_proto2.loc[df_matching_proto2['parameter']==var_id]['value']-df_matching_proto2.loc[df_matching_proto2['parameter']==42602]['value'] #need to subtract NO2 from O3NO2 to get O3\n",
    "            epa_concentration_field=epa_df_matching_proto2.loc[epa_df_matching_proto2['Value.parameter_code']==var_id]['value']*[1 if epa_df_matching_proto2.loc[epa_df_matching_proto2['Value.parameter_code']==var_id]['Value.units_of_measure'].unique()=='Parts per billion' else 1000]\n",
    "\n",
    "            dec_concentration_field.index=dec_concentration_field.index+timedelta(hours=tshift)\n",
    "            epa_concentration_field.index=epa_concentration_field.index+timedelta(hours=tshift)\n",
    "\n",
    "        else:\n",
    "            dec_concentration_field=df_matching_proto2.loc[df_matching_proto2['parameter']==var_id]['value']\n",
    "            epa_concentration_field=epa_df_matching_proto2.loc[epa_df_matching_proto2['Value.parameter_code']==var_id]['value']*[1 if epa_df_matching_proto2.loc[epa_df_matching_proto2['Value.parameter_code']==var_id]['Value.units_of_measure'].unique()=='Parts per billion' else 1000]\n",
    "\n",
    "            dec_concentration_field.index=dec_concentration_field.index+timedelta(hours=tshift)\n",
    "            epa_concentration_field.index=epa_concentration_field.index+timedelta(hours=tshift)\n",
    "\n",
    "\n",
    "        if dataset_selector=='EPA':\n",
    "            combined_df=pd.concat([epa_concentration_field,houravg],axis=1).dropna()\n",
    "        elif dataset_selector=='DEC':\n",
    "            combined_df=pd.concat([dec_concentration_field,houravg],axis=1).dropna()\n",
    "\n",
    "        #combined_df=combined_df.loc[~(combined_df['value']<0)] #uncomment this if you dont want to consider negative observed concentrations in the regression\n",
    "\n",
    "        if var_id==44201:\n",
    "            combined_df['O3_voltdiff']=(combined_df['O3NO2_V']-combined_df['NO2_V']).sub((combined_df['O3NO2_aux_V']-combined_df['NO2_aux_V']),axis=0)\n",
    "            gname='O3'\n",
    "        else:\n",
    "            fname=dec_table[str(var_id)]\n",
    "            gname_loc=fname.find('ppb')-1\n",
    "            gname=fname[:gname_loc]\n",
    "\n",
    "            combined_df[gname+'_voltdiff']=combined_df[gname+'_V'].sub(combined_df[gname+'_aux_V'],axis=0)\n",
    "\n",
    "        #combined_df_filtered=combined_df.loc[(combined_df['temp_sht31_degC']>0) & (combined_df['temp_sht31_degC']<30) & (combined_df['rh_sht31_percent']>25) & (combined_df['rh_sht31_percent']<80) & (~np.isnan(combined_df['value'])) \n",
    "        #                                     & (abs(combined_df['value'])<(abs(combined_df['value']).mean()*10)) & (combined_df['value']!=0) & (combined_df['value']>0)]\n",
    "\n",
    "        combined_df_filtered=combined_df.loc[(~np.isnan(combined_df['value'])) \n",
    "                                             & (combined_df['value']!=0) & (combined_df['value']!=-999) & (abs(combined_df['value'])<(abs(combined_df['value']).mean()*10))]# & (combined_df['value']<80)]\n",
    "\n",
    "\n",
    "        percentile_means=[]\n",
    "        #full_dataset_days=[entry for entry in np.arange(datetime(combined_df_filtered.index[0].year,combined_df_filtered.index[0].month,combined_df_filtered.index[0].day),combined_df_filtered.index[-1]-timedelta(days=test_period_length_in_days),timedelta(days=1))]\n",
    "\n",
    "        full_dataset_days=[entry for entry in np.arange(datetime(combined_df_filtered.index[0].year,combined_df_filtered.index[0].month,combined_df_filtered.index[0].day),final_date-timedelta(days=test_period_length_in_days),timedelta(days=1))]\n",
    "        full_dataset_days_for_training=[entry for entry in np.arange(datetime(combined_df_filtered.index[0].year,combined_df_filtered.index[0].month,combined_df_filtered.index[0].day),final_date-timedelta(days=training_period_length_in_days),timedelta(days=1))]\n",
    "\n",
    "        if multiple_predictor_periods==True:\n",
    "            available_predictor_days=full_dataset_days.copy()\n",
    "        else:\n",
    "            available_predictor_days=np.arange(custom_predictor_date,custom_predictor_date+timedelta(days=1),timedelta(days=1))\n",
    "\n",
    "        for i,predictor_start_day in enumerate(available_predictor_days):\n",
    "            \n",
    "            if i==0:\n",
    "                vd[str(var_id)+'_'+str(tshift)]=[]\n",
    "\n",
    "            #combined_df=combined_df_filtered.loc[predictor_start_day:predictor_start_day+np.timedelta64(14,'D')]\n",
    "            combined_df=combined_df_filtered.loc[predictor_start_day:predictor_start_day+np.timedelta64(1,'D')]\n",
    "\n",
    "            sensor_voltdiff=combined_df[gname+'_voltdiff']\n",
    "            sensor_field=combined_df['value']\n",
    "            \n",
    "            n=len(sensor_voltdiff)\n",
    "            r2=(((n*(sensor_voltdiff*sensor_field).sum())-(sensor_voltdiff.sum()*sensor_field.sum()))/np.sqrt((n*(sensor_voltdiff**2).sum()-(sensor_voltdiff).sum()**2)*(n*(sensor_field**2).sum()-(sensor_field).sum()**2)))**2\n",
    "\n",
    "            vd[str(var_id)+'_'+str(tshift)].append(r2)"
   ]
  },
  {
   "cell_type": "code",
   "execution_count": 16,
   "id": "c7b3a14d-fb26-47e9-8279-68ac218188be",
   "metadata": {},
   "outputs": [],
   "source": [
    "for name,dict_ in vd.items():\n",
    "    vd[name]=xr.DataArray(vd[name])\n",
    "    vd[name]=vd[name].rename({'dim_0':'day'})\n",
    "    vd[name]=vd[name].assign_coords({'day':available_predictor_days})"
   ]
  },
  {
   "cell_type": "code",
   "execution_count": 17,
   "id": "3d6466aa-dd10-433a-abbd-7f3d2890cb98",
   "metadata": {},
   "outputs": [],
   "source": [
    "for var_id in [44201,42101,42601,42602]:\n",
    "    vd[var_id]=xr.concat(([vd[str(var_id)+'_'+str(timeshift)] for timeshift in [-5,-4,-3,-2,-1,0,1,2,3,4,5]]),'tshift')\n",
    "    vd[var_id]=vd[var_id].assign_coords({'tshift':[-5,-4,-3,-2,-1,0,1,2,3,4,5]})"
   ]
  },
  {
   "cell_type": "code",
   "execution_count": 18,
   "id": "d9133aad-6dba-4051-b4f9-d0e80f6592b6",
   "metadata": {
    "tags": []
   },
   "outputs": [],
   "source": [
    "# CO:42101  O3NO2:44201  NO:42601  NO2:42602"
   ]
  },
  {
   "cell_type": "code",
   "execution_count": 19,
   "id": "5ab1c498-eaa5-4fce-918c-ba6553c6d1a1",
   "metadata": {},
   "outputs": [
    {
     "data": {
      "image/png": "[encoded data removed]",
      "text/plain": [
       "<Figure size 864x720 with 2 Axes>"
      ]
     },
     "metadata": {
      "needs_background": "light"
     },
     "output_type": "display_data"
    }
   ],
   "source": [
    "fig,axs=plt.subplots()\n",
    "fig.set_figheight(10)\n",
    "fig.set_figwidth(12)\n",
    "\n",
    "gas=42602\n",
    "\n",
    "ax=axs\n",
    "c=ax.pcolormesh(vd[gas])\n",
    "#c=ax.pcolormesh(vd[gas].where(vd[gas]>=vd[gas].max(dim='tshift')))\n",
    "ax.set_yticks(np.arange(11))\n",
    "ax.set_yticklabels([-5,-4,-3,-2,-1,0,1,2,3,4,5],fontsize=15)\n",
    "ax.set_xticks(np.arange(0,len(available_predictor_days),10))\n",
    "ax.set_xticklabels([str(day)[:10] for day in available_predictor_days[::10]],rotation=90,fontsize=15)\n",
    "ax.set_ylabel('Hour Offset',fontsize=20,labelpad=20)\n",
    "ax.set_xlabel('Single Day',fontsize=20,labelpad=20)\n",
    "ax.grid()\n",
    "\n",
    "plt.colorbar(c)\n",
    "\n",
    "plt.show()\n",
    "plt.close()"
   ]
  },
  {
   "cell_type": "code",
   "execution_count": 20,
   "id": "953580c8-9e90-4831-a79a-53ae466722e8",
   "metadata": {},
   "outputs": [
    {
     "data": {
      "text/plain": [
       "date\n",
       "2021-07-01 05:00:00    19.86063\n",
       "2021-07-01 06:00:00    13.81885\n",
       "2021-07-01 07:00:00    17.11940\n",
       "2021-07-01 08:00:00    22.60507\n",
       "2021-07-01 09:00:00    21.83623\n",
       "                         ...   \n",
       "2021-11-15 09:00:00    27.24407\n",
       "2021-11-15 10:00:00    28.25890\n",
       "2021-11-15 11:00:00    29.87110\n",
       "2021-11-15 12:00:00    27.72787\n",
       "2021-11-15 13:00:00    24.31623\n",
       "Name: value, Length: 3293, dtype: float64"
      ]
     },
     "execution_count": 20,
     "metadata": {},
     "output_type": "execute_result"
    }
   ],
   "source": [
    "dec_concentration_field"
   ]
  },
  {
   "cell_type": "code",
   "execution_count": null,
   "id": "0635b5ca-e7e5-4273-bac5-f98b00637367",
   "metadata": {},
   "outputs": [],
   "source": []
  }
 ],
 "metadata": {
  "kernelspec": {
   "display_name": "Python 3 (ipykernel)",
   "language": "python",
   "name": "python3"
  },
  "language_info": {
   "codemirror_mode": {
    "name": "ipython",
    "version": 3
   },
   "file_extension": ".py",
   "mimetype": "text/x-python",
   "name": "python",
   "nbconvert_exporter": "python",
   "pygments_lexer": "ipython3",
   "version": "3.8.5"
  }
 },
 "nbformat": 4,
 "nbformat_minor": 5
}
